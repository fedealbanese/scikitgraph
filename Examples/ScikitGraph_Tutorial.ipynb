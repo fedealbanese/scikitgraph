{
 "cells": [
  {
   "cell_type": "markdown",
   "metadata": {},
   "source": [
    "# Scikit-Graph\n",
    "### A simple graph machine learning example using sklearn and scikit-graph's transformers."
   ]
  },
  {
   "cell_type": "code",
   "execution_count": 2,
   "metadata": {},
   "outputs": [],
   "source": [
    "# Importing the packages and functions.\n",
    "import scikitgraph as sg\n",
    "import pandas as pd\n",
    "import networkx as nx\n",
    "import numpy as np\n",
    "\n",
    "from sklearn.model_selection import train_test_split\n",
    "from sklearn.pipeline import Pipeline\n",
    "from sklearn.preprocessing import StandardScaler\n",
    "from sklearn.svm import SVC\n",
    "from sklearn.model_selection import RandomizedSearchCV\n",
    "from sklearn.metrics import accuracy_score"
   ]
  },
  {
   "cell_type": "code",
   "execution_count": 3,
   "metadata": {},
   "outputs": [],
   "source": [
    "# Set a seed.\n",
    "np.random.seed(31415) "
   ]
  },
  {
   "cell_type": "code",
   "execution_count": 4,
   "metadata": {},
   "outputs": [],
   "source": [
    "# Generate a Graph and a dataframe.\n",
    "G = nx.karate_club_graph()\n",
    "f = pd.DataFrame(data = {'name': range(34)}) # Each row of the dataframe corresponds to a node and each column to a feature. In this case there are no features, just the name of the node.\n",
    "f[\"target\"] = [1 if G.node[i]['club'] == 'Officer' else 0  for i in G.nodes] # The target of our machine learning model."
   ]
  },
  {
   "cell_type": "code",
   "execution_count": 5,
   "metadata": {},
   "outputs": [],
   "source": [
    "# Defining the transformers.\n",
    "Degree = sg.Degree(G)\n",
    "DropName = sg.DropName()\n",
    "Pagerank = sg.Pagerank(G)\n",
    "Centrality = sg.Centrality(G)\n",
    "Communities_label_propagation = sg.Communities_label_propagation(G)\n",
    "Communities_greedy_modularity = sg.Communities_greedy_modularity(G)"
   ]
  },
  {
   "cell_type": "code",
   "execution_count": 6,
   "metadata": {},
   "outputs": [],
   "source": [
    "# Create the pipline object.\n",
    "steps = [(\"Degree\", Degree), (\"Pagerank\", Pagerank), (\"Centrality\", Centrality), \n",
    "        (\"CLP\", Communities_label_propagation), (\"CGM\", Communities_greedy_modularity),\n",
    "         (\"DropName\", DropName), ('SVM', SVC())]\n",
    "\n",
    "pipeline = Pipeline(steps)"
   ]
  },
  {
   "cell_type": "code",
   "execution_count": 7,
   "metadata": {},
   "outputs": [],
   "source": [
    "# Split the dataset.\n",
    "X = f.drop(['target'],axis=1)\n",
    "Y = f['target']\n",
    "X_train, X_test, y_train, y_test = train_test_split(X,Y,test_size=0.2, random_state=30, stratify=Y)"
   ]
  },
  {
   "cell_type": "code",
   "execution_count": 8,
   "metadata": {},
   "outputs": [
    {
     "name": "stderr",
     "output_type": "stream",
     "text": [
      "/home/condauser/.local/lib/python3.6/site-packages/sklearn/model_selection/_search.py:813: DeprecationWarning: The default of the `iid` parameter will change from True to False in version 0.22 and will be removed in 0.24. This will change numeric results when test-set sizes are unequal.\n",
      "  DeprecationWarning)\n"
     ]
    },
    {
     "data": {
      "text/plain": [
       "RandomizedSearchCV(cv=3, error_score='raise-deprecating',\n",
       "                   estimator=Pipeline(memory=None,\n",
       "                                      steps=[('Degree',\n",
       "                                              Degree(G=<networkx.classes.graph.Graph object at 0x7f516fb107f0>)),\n",
       "                                             ('Pagerank',\n",
       "                                              Pagerank(G=<networkx.classes.graph.Graph object at 0x7f516fb107f0>)),\n",
       "                                             ('Centrality',\n",
       "                                              Centrality(G=<networkx.classes.graph.Graph object at 0x7f516fb107f0>)),\n",
       "                                             ('CLP',\n",
       "                                              Communities_lab...\n",
       "                                                  gamma='auto_deprecated',\n",
       "                                                  kernel='rbf', max_iter=-1,\n",
       "                                                  probability=False,\n",
       "                                                  random_state=None,\n",
       "                                                  shrinking=True, tol=0.001,\n",
       "                                                  verbose=False))],\n",
       "                                      verbose=False),\n",
       "                   iid='warn', n_iter=4, n_jobs=None,\n",
       "                   param_distributions={'SVM__C': [0.001, 0.1, 10, 100,\n",
       "                                                   1000000.0],\n",
       "                                        'SVM__gamma': [0.1, 0.01]},\n",
       "                   pre_dispatch='2*n_jobs', random_state=None, refit=True,\n",
       "                   return_train_score=False, scoring=None, verbose=0)"
      ]
     },
     "execution_count": 8,
     "metadata": {},
     "output_type": "execute_result"
    }
   ],
   "source": [
    "# Perform a randomized search with cross validation in order to find the best hyperparameters for the support vector machine model (SVM).\n",
    "parameteres = {'SVM__C':[0.001,0.1,10,100,10e5], 'SVM__gamma':[0.1,0.01]}\n",
    "random_search = RandomizedSearchCV(pipeline, param_distributions = parameteres, cv=3, n_iter = 4)\n",
    "random_search.fit(X_train, y_train)"
   ]
  },
  {
   "cell_type": "code",
   "execution_count": 9,
   "metadata": {},
   "outputs": [
    {
     "name": "stdout",
     "output_type": "stream",
     "text": [
      "Score:  1.0\n"
     ]
    }
   ],
   "source": [
    "# The score of the best model.\n",
    "y_pred = random_search.best_estimator_.predict(X_test)\n",
    "accuracy = accuracy_score(y_test, y_pred)\n",
    "print('Score: ', accuracy) "
   ]
  }
 ],
 "metadata": {
  "kernelspec": {
   "display_name": "Python 3",
   "language": "python",
   "name": "python3"
  },
  "language_info": {
   "codemirror_mode": {
    "name": "ipython",
    "version": 3
   },
   "file_extension": ".py",
   "mimetype": "text/x-python",
   "name": "python",
   "nbconvert_exporter": "python",
   "pygments_lexer": "ipython3",
   "version": "3.6.8"
  }
 },
 "nbformat": 4,
 "nbformat_minor": 2
}
